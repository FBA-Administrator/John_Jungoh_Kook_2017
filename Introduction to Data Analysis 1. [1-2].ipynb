{
 "cells": [
  {
   "cell_type": "markdown",
   "metadata": {},
   "source": [
    "Data Analysis Process\n",
    "\n",
    "1. Question\n",
    "2. Wrangle\n",
    "    1) Data Acquisition\n",
    "    2) Data Cleaning\n",
    "3. Explore\n",
    "    1) Build intuition\n",
    "    2) Find patterns\n",
    "4. Draw Conclusions\n",
    "    1) Prediction\n",
    "    2) Conclusion\n",
    "5. Communicate\n",
    "    1) Data visualization"
   ]
  },
  {
   "cell_type": "markdown",
   "metadata": {},
   "source": [
    "Data Acquisition\n",
    "    1) Downloading files\n",
    "    2) Accessing an API\n",
    "    3) Scraping a web page\n",
    "    4) Combine data from different format\n",
    "\n",
    "Data format\n",
    "    CSV (Comma Separated Values) file - Like a spread sheet with no formulas, and easy to process with code"
   ]
  }
 ],
 "metadata": {
  "anaconda-cloud": {},
  "kernelspec": {
   "display_name": "Python [conda root]",
   "language": "python",
   "name": "conda-root-py"
  },
  "language_info": {
   "codemirror_mode": {
    "name": "ipython",
    "version": 3
   },
   "file_extension": ".py",
   "mimetype": "text/x-python",
   "name": "python",
   "nbconvert_exporter": "python",
   "pygments_lexer": "ipython3",
   "version": "3.5.2"
  }
 },
 "nbformat": 4,
 "nbformat_minor": 1
}
